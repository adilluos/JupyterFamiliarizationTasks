{
 "cells": [
  {
   "cell_type": "markdown",
   "id": "6f73d8c5-7172-45de-a577-94aa469f03a5",
   "metadata": {},
   "source": [
    "Task 2:"
   ]
  },
  {
   "cell_type": "markdown",
   "id": "2f12b664-38eb-4e15-84aa-74e800fbf5cb",
   "metadata": {},
   "source": [
    "# Big Data in Law Enforcement"
   ]
  },
  {
   "cell_type": "markdown",
   "id": "72e68bb6-a4d8-4212-8d5f-f5d63fce8e34",
   "metadata": {},
   "source": [
    "Task 3"
   ]
  },
  {
   "cell_type": "markdown",
   "id": "d90c3832-3c86-4a3b-a83f-91860bf55af9",
   "metadata": {},
   "source": [
    "## Introduction\n",
    "\r\n",
    "Big Data refers to exceptionally large and complex datasets that cannot be effectively processed or analyzed using traditional data management tools. It encompasses the storage, processing, and analysis of vast amounts of structured and unstructured data to extract valuable insights, patterns, and knowledge."
   ]
  },
  {
   "cell_type": "markdown",
   "id": "47f44cd0-9d2f-48ab-b889-71ab98597bed",
   "metadata": {},
   "source": [
    "Task 4:"
   ]
  },
  {
   "cell_type": "markdown",
   "id": "f9c063cf-d94b-4d82-9b88-c26547f32511",
   "metadata": {},
   "source": [
    "*Some of the popular languages that Data Scientists use are:*\r\n",
    "\r\n",
    "1. Python\r\n",
    "2. R\r\n",
    "3. SQL\r\n"
   ]
  },
  {
   "cell_type": "markdown",
   "id": "92b740c7-f9d6-4b0c-9815-498567c375c7",
   "metadata": {},
   "source": [
    "Task 5:"
   ]
  },
  {
   "cell_type": "markdown",
   "id": "7af71308-5abe-484f-a73e-1d05e834b956",
   "metadata": {},
   "source": [
    "*Some of the commonly used libraries used by Data Scientists include:*\r\n",
    "\r\n",
    "- Pandas\r\n",
    "- NumPy\r\n",
    "- Scikit-Learn\r\n",
    "- Matplaborn\r\n"
   ]
  },
  {
   "cell_type": "markdown",
   "id": "f313b33d-36f1-4c5a-a91a-d192a1181b53",
   "metadata": {},
   "source": [
    "Task 6:"
   ]
  },
  {
   "cell_type": "markdown",
   "id": "62900354-a4c3-4e96-bf37-00567288d1df",
   "metadata": {},
   "source": [
    "| Data Science Tools |\r\n",
    "|-------------------|\r\n",
    "| Jupyter Notebook   |\r\n",
    "| Apache Spark       |\r\n",
    "| RStudio            |\r\n"
   ]
  },
  {
   "cell_type": "markdown",
   "id": "7e64ac93-1d4b-476c-81cc-e10f6888e51e",
   "metadata": {},
   "source": [
    "Task 7:"
   ]
  },
  {
   "cell_type": "markdown",
   "id": "b41d9877-5bbe-449b-86d4-46c1db38c0a6",
   "metadata": {},
   "source": [
    "### Examples of Evaluating Arithmetic Expressions in Python\n",
    "\n",
    "```python\n",
    "# Addition\n",
    "result_add = 5 + 3\n",
    "\n",
    "# Subtraction\n",
    "result_sub = 10 - 2\n",
    "\n",
    "# Multiplication\n",
    "result_mul = 4 * 6\n",
    "\n",
    "# Division\n",
    "result_div = 16 / 4\n",
    "\n",
    "# Exponentiation\n",
    "result_exp = 2 ** 3\n",
    "\n",
    "# Modulo\n",
    "result_mod = 15 % 7\n"
   ]
  },
  {
   "cell_type": "markdown",
   "id": "986999e1-8c43-41e0-85f9-d5f3411e23a5",
   "metadata": {},
   "source": [
    "Task 8:"
   ]
  },
  {
   "cell_type": "code",
   "execution_count": 9,
   "id": "8b34cb44-a270-4695-b239-5c434c7584c3",
   "metadata": {},
   "outputs": [
    {
     "data": {
      "text/plain": [
       "33"
      ]
     },
     "execution_count": 9,
     "metadata": {},
     "output_type": "execute_result"
    }
   ],
   "source": [
    "# This is an arithmetic expression\n",
    "result = (4 * 6) + 9\n",
    "result"
   ]
  },
  {
   "cell_type": "markdown",
   "id": "9faf9af5-281d-41fe-abe7-320d1f9bd74a",
   "metadata": {},
   "source": [
    "Task 9:"
   ]
  },
  {
   "cell_type": "code",
   "execution_count": 10,
   "id": "628217f0-1bcc-4e3f-aeee-9e1cbe465266",
   "metadata": {},
   "outputs": [
    {
     "data": {
      "text/plain": [
       "5.0"
      ]
     },
     "execution_count": 10,
     "metadata": {},
     "output_type": "execute_result"
    }
   ],
   "source": [
    "# This will convert 300 minutes to hours.\n",
    "minutes = 300\n",
    "hours = minutes / 60\n",
    "hours\n"
   ]
  },
  {
   "cell_type": "markdown",
   "id": "6757397f-e1e1-42d7-8649-4cf9dd6229e4",
   "metadata": {},
   "source": [
    "Task 10:"
   ]
  },
  {
   "cell_type": "markdown",
   "id": "da8def08-4083-4720-ac2b-2a6fe0920d74",
   "metadata": {},
   "source": [
    "**Objectives:**\n",
    "\n",
    "- List commonly used languages for Data Science.\n",
    "- Highlight popular libraries for Data Science in Python.\n",
    "- Provide examples of evaluating arithmetic expressions in Python.\n",
    "- Convert minutes to hours using Python.\n",
    "- Create and work with Jupyter Notebook cells.\n"
   ]
  },
  {
   "cell_type": "markdown",
   "id": "d7257e63-7100-4ed2-ada0-b51331d7d694",
   "metadata": {},
   "source": [
    "Task 11:"
   ]
  },
  {
   "cell_type": "markdown",
   "id": "e7159838-cada-47a1-98cf-cc07985d957f",
   "metadata": {},
   "source": [
    "## Author\n",
    "Adilzhan Bekbolat\n"
   ]
  }
 ],
 "metadata": {
  "kernelspec": {
   "display_name": "Python 3 (ipykernel)",
   "language": "python",
   "name": "python3"
  },
  "language_info": {
   "codemirror_mode": {
    "name": "ipython",
    "version": 3
   },
   "file_extension": ".py",
   "mimetype": "text/x-python",
   "name": "python",
   "nbconvert_exporter": "python",
   "pygments_lexer": "ipython3",
   "version": "3.11.1"
  }
 },
 "nbformat": 4,
 "nbformat_minor": 5
}
